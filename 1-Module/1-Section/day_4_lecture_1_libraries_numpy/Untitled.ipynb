{
 "cells": [
  {
   "cell_type": "code",
   "execution_count": 7,
   "metadata": {},
   "outputs": [],
   "source": [
    "\n",
    "def convert_f_to_c(temperature_f):\n",
    "    \"\"\"Convert Fahrenheit to Celsius.\"\"\"\n",
    "    temperature_c = (temperature_f - 32) * (5/9)\n",
    "    return temperature_c\n",
    "\n",
    "def convert_c_to_f(temperature_c):\n",
    "    \"\"\"Convert Celsius to Fahrenheit.\"\"\"\n",
    "    temperature_f = temperature_c*(9/5)+32\n",
    "    return temperature_f\n",
    "\n",
    "def convert_c_to_k(temperature_c):\n",
    "    \"\"\"Convert Celsius to Kelvin.\"\"\"\n",
    "    temperature_k = temperature_c+273.15\n",
    "    return temperature_k\n",
    "    \n",
    "def convert_k_to_c(temperature_k):\n",
    "    \"\"\"Convert to Kelvin to Celcius.\"\"\"\n",
    "    temperature_c =  temperature_k - 273.15\n",
    "    return temperature_c  \n",
    "    \n",
    "def convert_f_to_k(temperature_f):\n",
    "    \"\"\"Convert Fahrenheit to Kelvin.\"\"\"\n",
    "    temperature_k = convert_f_to_c(temperature_f) +273.15\n",
    "    return temperature_k\n",
    "    \n",
    "def convert_k_to_f(temperature_k):\n",
    "    \"\"\"Convert Fahrenheit to Kelvin.\"\"\"\n",
    "    temperature_f = convert_k_to_c(temperature_k)*(9/5)+32\n",
    "    return temperature_f\n"
   ]
  },
  {
   "cell_type": "code",
   "execution_count": 13,
   "metadata": {},
   "outputs": [
    {
     "data": {
      "text/plain": [
       "-173.14999999999998"
      ]
     },
     "execution_count": 13,
     "metadata": {},
     "output_type": "execute_result"
    }
   ],
   "source": [
    "convert_k_to_c(100)"
   ]
  },
  {
   "cell_type": "code",
   "execution_count": null,
   "metadata": {},
   "outputs": [],
   "source": []
  }
 ],
 "metadata": {
  "kernelspec": {
   "display_name": "Python 3",
   "language": "python",
   "name": "python3"
  },
  "language_info": {
   "codemirror_mode": {
    "name": "ipython",
    "version": 3
   },
   "file_extension": ".py",
   "mimetype": "text/x-python",
   "name": "python",
   "nbconvert_exporter": "python",
   "pygments_lexer": "ipython3",
   "version": "3.7.3"
  }
 },
 "nbformat": 4,
 "nbformat_minor": 2
}
