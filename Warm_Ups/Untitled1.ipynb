{
 "cells": [
  {
   "cell_type": "code",
   "execution_count": 1,
   "metadata": {},
   "outputs": [],
   "source": [
    "def prime_finder(numbers):\n",
    "    import numpy as np\n",
    "    prime=np.array([])\n",
    "    \"\"\"will select only the prime #'s from a given numpy array\"\"\"\n",
    "    for n in np.nditer(numbers):\n",
    "        if (n%2)>0:\n",
    "            prime = np.append(prime,n)\n",
    "        return prime\n",
    "\n",
    "    #a series of numbers in which each number ( Fibonacci number ) is the sum of the \\n,\n",
    "    #two preceding numbers. The simplest is the series 1, 1, 2, 3, 5, 8, etc.\\n,\n",
    "\n",
    "def fibonacci_finder(numbers):\n",
    "    \"\"\"\"will select only the Fibonacci numbers from a given numpy array.\"\"\"\n",
    "    import numpy as np\n",
    "    fib_nums=np.array([])\n",
    "    x=2 #index counter\n",
    "    for n in np.nditer(numbers[2:]):\n",
    "        if n == (numbers[x-1]+numbers[x-2]):\n",
    "            fib_nums = np.append(fib_nums,n)\n",
    "            x+=1\n",
    "    return fib_nums\n"
   ]
  },
  {
   "cell_type": "code",
   "execution_count": null,
   "metadata": {},
   "outputs": [],
   "source": []
  }
 ],
 "metadata": {
  "kernelspec": {
   "display_name": "Python 3",
   "language": "python",
   "name": "python3"
  },
  "language_info": {
   "codemirror_mode": {
    "name": "ipython",
    "version": 3
   },
   "file_extension": ".py",
   "mimetype": "text/x-python",
   "name": "python",
   "nbconvert_exporter": "python",
   "pygments_lexer": "ipython3",
   "version": "3.7.3"
  }
 },
 "nbformat": 4,
 "nbformat_minor": 2
}
