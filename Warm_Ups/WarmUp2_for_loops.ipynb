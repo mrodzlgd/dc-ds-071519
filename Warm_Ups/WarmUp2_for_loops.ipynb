{
 "cells": [
  {
   "cell_type": "code",
   "execution_count": 24,
   "metadata": {},
   "outputs": [
    {
     "name": "stdout",
     "output_type": "stream",
     "text": [
      "[4, 9]\n"
     ]
    }
   ],
   "source": [
    "#  For loops and alternatives\n",
    "#Given an array of integers, return the index of of the target number - try doing it with a for loop. \n",
    "#Notice that the target number can repeat several times.\n",
    "\n",
    "\n",
    "### Example:\n",
    "#Given nums = [2, 9, 11, 15], target = 9,\n",
    "#Because nums[1] = 9\n",
    "#return [1].\n",
    "\n",
    "given_nums=[2,5,8,9,11,15,26,47,18,11]\n",
    "target = 11\n",
    "target_idx = []\n",
    "i=0\n",
    "for num in given_nums:\n",
    "    if num == target:\n",
    "        target_idx.append(i)\n",
    "        i+=1\n",
    "    else: i+=1\n",
    "print(target_idx)\n",
    "    "
   ]
  },
  {
   "cell_type": "raw",
   "metadata": {},
   "source": [
    " \n",
    " # [optional I] - solve with for loops\n",
    " You have an array of integers, return indices of the two numbers such that they add  to a target.\n",
    "Assume that each input would have exactly one solution, and you may not use the same element twice.\n",
    "Given nums = [2, 7, 11, 15], target = 9,\n",
    "\n",
    "### Example \n",
    "Because nums[0] + nums[1] = 2 + 7 = 9,\n",
    "return [0, 1].\n",
    "\n",
    "\n",
    " # [optional II] - solve the same with only one loop and a dictionary"
   ]
  }
 ],
 "metadata": {
  "kernelspec": {
   "display_name": "Python 3",
   "language": "python",
   "name": "python3"
  },
  "language_info": {
   "codemirror_mode": {
    "name": "ipython",
    "version": 3
   },
   "file_extension": ".py",
   "mimetype": "text/x-python",
   "name": "python",
   "nbconvert_exporter": "python",
   "pygments_lexer": "ipython3",
   "version": "3.7.3"
  }
 },
 "nbformat": 4,
 "nbformat_minor": 2
}
