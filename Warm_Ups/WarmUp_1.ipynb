{
 "cells": [
  {
   "cell_type": "code",
   "execution_count": 128,
   "metadata": {},
   "outputs": [],
   "source": [
    "#Create a dictionary where each object contains a list of one float (Age) \n",
    "#and one string (Family name) (at least 5 objects) \n",
    "#Example: {Charles: [23.4, \"Darwin\"], Alan: [42.5, \"Turing\"]}\n",
    "people = {'John':[25.5,\"Lanier\"], 'Carlos':[30,\"Rodriguez\"],'Robert':[45,\"Legrand\"],'Wendy':[26.5,\"Smith\"], 'Diana':[35,\"Maclin\"]}\n"
   ]
  },
  {
   "cell_type": "code",
   "execution_count": 129,
   "metadata": {},
   "outputs": [
    {
     "data": {
      "text/plain": [
       "{'Carlos': [45, 'Rodriguez'],\n",
       " 'Robert': [45, 'Legrand'],\n",
       " 'Wendy': [26.5, 'Smith'],\n",
       " 'Diana': [35, 'Maclin']}"
      ]
     },
     "execution_count": 129,
     "metadata": {},
     "output_type": "execute_result"
    }
   ],
   "source": [
    "#Delete one object from the dictionary\n",
    "del people['John']\n",
    "People\n"
   ]
  },
  {
   "cell_type": "code",
   "execution_count": 130,
   "metadata": {},
   "outputs": [
    {
     "data": {
      "text/plain": [
       "{'Carlos': [45, 'Rodriguez'],\n",
       " 'Robert': [45, 'Legrand'],\n",
       " 'Wendy': [26.5, 'Smith'],\n",
       " 'Diana': [35, 'Maclin']}"
      ]
     },
     "execution_count": 130,
     "metadata": {},
     "output_type": "execute_result"
    }
   ],
   "source": [
    "#Replace the float number of one of your objects - we are changing a list \n",
    "#entry inside a dictionary record! look at Darwin's new age \n",
    "#Example: {Charles: [99.73, \"Darwin\"], Alan: [42.5, \"Turing\"]}\n",
    "people['Carlos'][0] = 45\n",
    "people"
   ]
  },
  {
   "cell_type": "code",
   "execution_count": 131,
   "metadata": {},
   "outputs": [
    {
     "data": {
      "text/plain": [
       "[45, 45, 26.5, 35]"
      ]
     },
     "execution_count": 131,
     "metadata": {},
     "output_type": "execute_result"
    }
   ],
   "source": [
    "#Write a for loop that goes through all records in the dictionary, \n",
    "#and assigns the float numbers into one merged list (see ages) \n",
    "#ages = [23.4, 22.9, 552.9]\n",
    "ages = []\n",
    "#getting values from Dictionary into a list of lists\n",
    "for name in people:\n",
    "    info = list(people.values())\n",
    "#getting the age (index 0) of each element\n",
    "for person in info:\n",
    "    age=person[0]\n",
    "#saving each age into the ages list\n",
    "    ages.append(age)\n",
    "ages"
   ]
  },
  {
   "cell_type": "code",
   "execution_count": 132,
   "metadata": {
    "scrolled": true
   },
   "outputs": [
    {
     "name": "stdout",
     "output_type": "stream",
     "text": [
      "The list is even!\n",
      "List of ages:  [26.5, 35, 45, 45]\n",
      "Median Age = 40.0\n",
      "Mean Age = 37.875\n"
     ]
    }
   ],
   "source": [
    "#Instructions: Calculate with a for loop the median and mean of the ages list\n",
    "\n",
    "#---------------------------------------------------------------------------------------\n",
    "\n",
    "#Reference: \n",
    "\n",
    "#median = (n+1)/2\n",
    "#mean = sum(n)/n\n",
    "\n",
    "#The median is also the number that is halfway into the set. \n",
    "#To find the median, the data should be arranged in order from \n",
    "#least to greatest. #If there is an even number of items in the data set,\n",
    "#then the median is found by taking the mean (average) of the two middlemost numbers.\n",
    "\n",
    "#----------------------------------------------------------------------------------------\n",
    "\n",
    "#Start of Code --------------------------------------------------------------------------\n",
    "\n",
    "#counter\n",
    "n=0\n",
    "#variable to keep sum of ages\n",
    "add_age = 0\n",
    "# number of items on the list\n",
    "x = len(ages)\n",
    "#sorting values for median\n",
    "sorted_ages = sorted(ages, key = float)\n",
    "#for loop to calculate the mean \n",
    "for age in sorted_ages:\n",
    "    #calculate the mean age\n",
    "    \n",
    "    add_age += age\n",
    "    mean = add_age/x\n",
    "    \n",
    "    #calculating the median for an odd number list\n",
    "if (x%2)>0:\n",
    "    print('The list is odd!')\n",
    "    #List indexes starts in 0\n",
    "    median_pos = int(x/2)\n",
    "    median = sorted_ages[median_pos]   \n",
    "    \n",
    "   # calculating the median for an even number list\n",
    "elif (x%2) == 0:\n",
    "    print('The list is even!')\n",
    "    #List indexes starts in 0\n",
    "    pos1 = int(x/2)-1\n",
    "    pos2 = int(x/2)\n",
    "    median = (sorted_ages[pos1]+sorted_ages[pos2])/2\n",
    "    \n",
    "print (\"List of ages: \", sorted_ages)    \n",
    "print(\"Median Age = \" + str(median))\n",
    "print(\"Mean Age = \" + str(mean))\n",
    "\n",
    "#End of Code ------------------------------------------------------------------------------"
   ]
  },
  {
   "cell_type": "code",
   "execution_count": 95,
   "metadata": {},
   "outputs": [
    {
     "data": {
      "text/plain": [
       "[26.5, 35, 45, 45]"
      ]
     },
     "execution_count": 95,
     "metadata": {},
     "output_type": "execute_result"
    }
   ],
   "source": []
  },
  {
   "cell_type": "code",
   "execution_count": null,
   "metadata": {},
   "outputs": [],
   "source": []
  },
  {
   "cell_type": "code",
   "execution_count": null,
   "metadata": {},
   "outputs": [],
   "source": []
  }
 ],
 "metadata": {
  "kernelspec": {
   "display_name": "Python 3",
   "language": "python",
   "name": "python3"
  },
  "language_info": {
   "codemirror_mode": {
    "name": "ipython",
    "version": 3
   },
   "file_extension": ".py",
   "mimetype": "text/x-python",
   "name": "python",
   "nbconvert_exporter": "python",
   "pygments_lexer": "ipython3",
   "version": "3.7.3"
  }
 },
 "nbformat": 4,
 "nbformat_minor": 2
}
