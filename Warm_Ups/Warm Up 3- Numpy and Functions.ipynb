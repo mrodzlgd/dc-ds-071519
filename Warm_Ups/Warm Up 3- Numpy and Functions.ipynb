{
 "cells": [
  {
   "cell_type": "code",
   "execution_count": 5,
   "metadata": {},
   "outputs": [],
   "source": [
    "### Warm Up- Numpy and Functions\n",
    "\n",
    "# 1. Create a new .py file called number_finder.\n",
    "\n",
    "# 2. In the number_finder.py file create 2 functions.  The first function (called prime_finder) will select only \n",
    "# the prime #'s from a given numpy array.  The second function (called fibonacci_finder) will select only the Fibonacci\n",
    "# numbers from a given numpy array.\n",
    " \n",
    "#3. Now open a new jupyter notebook.  \n",
    "\n",
    "#4. In your jupyter notebook import number_finder.\n",
    "\n",
    "#5.  Next create an array called numbers that contains 100 random numbers.\n",
    "\n",
    "#6.  Apply both number_finder functions to the array you created to find the prime \n",
    "#and fibonacci numbers contained in your array.\n",
    "\n",
    "#BONUS\n",
    "\n",
    "#Create an additional function to find the tribonacci numbers in your array.\n",
    "\n",
    "\n",
    "import number_finder as nf\n",
    "import random as rd\n",
    "\n",
    "\n",
    "\n",
    "\n",
    "nf.prime_finder()\n",
    "\n",
    "\n",
    "\n",
    "\n",
    "\n"
   ]
  },
  {
   "cell_type": "code",
   "execution_count": null,
   "metadata": {},
   "outputs": [],
   "source": []
  }
 ],
 "metadata": {
  "kernelspec": {
   "display_name": "Python 3",
   "language": "python",
   "name": "python3"
  },
  "language_info": {
   "codemirror_mode": {
    "name": "ipython",
    "version": 3
   },
   "file_extension": ".py",
   "mimetype": "text/x-python",
   "name": "python",
   "nbconvert_exporter": "python",
   "pygments_lexer": "ipython3",
   "version": "3.7.3"
  }
 },
 "nbformat": 4,
 "nbformat_minor": 2
}
